{
 "cells": [
  {
   "cell_type": "code",
   "execution_count": null,
   "id": "03294684-6eb6-4ce8-9fc6-6dadcf7e54f3",
   "metadata": {},
   "outputs": [],
   "source": [
    "# import libraly\n",
    "from pyspark.sql import SparkSession\n",
    "\n",
    "# create sparksession\n",
    "spark = SparkSession.builder.appName(\"data_other_calculate\").getOrCreate()\n",
    "\n",
    "# create dataframe\n",
    "df = spark.read.format(\"csv\").option(\"inferSchema\", \"True\").option(\"header\", \"True\").option(\"sep\", \",\").load(\"./datasets/Online_Retail.csv\")\n",
    "\n",
    "df.show()"
   ]
  },
  {
   "cell_type": "code",
   "execution_count": null,
   "id": "507fa7e6-9390-4989-906d-cc39ff858d2c",
   "metadata": {},
   "outputs": [],
   "source": [
    "# count the number of each type of description\n",
    "df.groupby(df[\"Description\"]).count().show()"
   ]
  },
  {
   "cell_type": "code",
   "execution_count": null,
   "id": "2cb457cc-2214-4590-825a-340de446afbc",
   "metadata": {},
   "outputs": [],
   "source": [
    "# import functions\n",
    "from pyspark.sql.functions import desc\n",
    "\n",
    "# sort desc\n",
    "df.groupby(df[\"Description\"]).count().sort(desc(\"count\")).show()"
   ]
  },
  {
   "cell_type": "code",
   "execution_count": null,
   "id": "b40626e9-8b44-48a0-be02-83b0a49226ce",
   "metadata": {},
   "outputs": [],
   "source": [
    "# import functions\n",
    "from pyspark.sql.functions import asc\n",
    "\n",
    "# sort asc, filter count > 1000\n",
    "df.groupby(df[\"Description\"]).count().filter(\"count >= 1000\").sort(asc(\"count\")).show()"
   ]
  },
  {
   "cell_type": "code",
   "execution_count": null,
   "id": "3b85cb5c-7618-478b-ae28-ecf4b2f52d3c",
   "metadata": {},
   "outputs": [],
   "source": [
    "# chech type of column\n",
    "df.printSchema()"
   ]
  },
  {
   "cell_type": "code",
   "execution_count": null,
   "id": "52b3cee6-798d-415e-af21-ed8a3bcdfcba",
   "metadata": {},
   "outputs": [],
   "source": [
    "# import stringtype\n",
    "from pyspark.sql.types import StringType\n",
    "\n",
    "# convert type of \"CustomerID\" to string\n",
    "df = df.withColumn(\"CustomerID\", df[\"CustomerID\"].cast(StringType()))\n",
    "\n",
    "df.printSchema()"
   ]
  },
  {
   "cell_type": "code",
   "execution_count": null,
   "id": "d4e1edf1-b785-4606-b881-49831cac98ac",
   "metadata": {},
   "outputs": [],
   "source": [
    "# describe statics\n",
    "df.describe([\"Quantity\", \"UnitPrice\"]).show()"
   ]
  },
  {
   "cell_type": "code",
   "execution_count": null,
   "id": "64c58024-5d2e-49fe-bfaa-9922fd7b4f0c",
   "metadata": {},
   "outputs": [],
   "source": [
    "# describe statics 2\n",
    "df.select(\"Quantity\", \"UnitPrice\").summary().show()"
   ]
  },
  {
   "cell_type": "code",
   "execution_count": null,
   "id": "c9800e20-26f7-456b-a4b2-662729315a8a",
   "metadata": {},
   "outputs": [],
   "source": [
    "# describe mean\n",
    "df.groupby().mean().show()"
   ]
  },
  {
   "cell_type": "code",
   "execution_count": null,
   "id": "92aba969-8656-4298-bd12-07fa1114c250",
   "metadata": {},
   "outputs": [],
   "source": [
    "# describe max\n",
    "df.agg({\"Quantity\":\"max\", \"UnitPrice\":\"max\"}).show()"
   ]
  },
  {
   "cell_type": "code",
   "execution_count": null,
   "id": "79211c81-d936-4c44-9282-c312e7f3e396",
   "metadata": {},
   "outputs": [],
   "source": []
  }
 ],
 "metadata": {
  "kernelspec": {
   "display_name": "Python 3 (ipykernel)",
   "language": "python",
   "name": "python3"
  },
  "language_info": {
   "codemirror_mode": {
    "name": "ipython",
    "version": 3
   },
   "file_extension": ".py",
   "mimetype": "text/x-python",
   "name": "python",
   "nbconvert_exporter": "python",
   "pygments_lexer": "ipython3",
   "version": "3.10.12"
  }
 },
 "nbformat": 4,
 "nbformat_minor": 5
}
