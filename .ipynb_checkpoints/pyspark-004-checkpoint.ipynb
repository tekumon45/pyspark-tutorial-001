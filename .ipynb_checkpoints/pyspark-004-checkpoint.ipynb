{
 "cells": [
  {
   "cell_type": "code",
   "execution_count": null,
   "id": "5eacb164-053a-414f-9af3-ce72ba6a8016",
   "metadata": {},
   "outputs": [],
   "source": [
    "# import libraly\n",
    "from pyspark.sql import SparkSession\n",
    "\n",
    "# create sparksession\n",
    "spark = SparkSession.builder.appName(\"NullAction\").getOrCreate()\n",
    "\n",
    "# create dataframe\n",
    "df = spark.read.format(\"csv\").option(\"inferSchema\", \"True\").option(\"header\", \"True\").option(\"sep\", \",\").load(\"./datasets/Online_Retail.csv\")\n",
    "\n",
    "df.show()"
   ]
  },
  {
   "cell_type": "code",
   "execution_count": null,
   "id": "fc7e3dea-5190-412f-b8d8-0ce62e8cc54f",
   "metadata": {},
   "outputs": [],
   "source": [
    "# check each columns as null\n",
    "print(f\"InvoiceNo:{df[df['InvoiceNo'].isNull()].count()}\")\n",
    "print(f\"StockCode:{df[df['StockCode'].isNull()].count()}\")\n",
    "print(f\"Description:{df[df['Description'].isNull()].count()}\")\n",
    "print(f\"Quantity:{df[df['Quantity'].isNull()].count()}\")\n",
    "print(f\"InvoiceDate:{df[df['InvoiceDate'].isNull()].count()}\")\n",
    "print(f\"UnitPrice:{df[df['UnitPrice'].isNull()].count()}\")\n",
    "print(f\"CustomerID:{df[df['CustomerID'].isNull()].count()}\")\n",
    "print(f\"Country:{df[df['Country'].isNull()].count()}\")"
   ]
  },
  {
   "cell_type": "code",
   "execution_count": null,
   "id": "7cb13484-1b84-400d-a4bb-537f5de11bf8",
   "metadata": {},
   "outputs": [],
   "source": [
    "# impulation null\n",
    "df = df.fillna(\"Unknown\", subset=[\"Description\"])\n",
    "\n",
    "print(f\"Description:{df[df['Description'].isNull()].count()}\")"
   ]
  },
  {
   "cell_type": "code",
   "execution_count": null,
   "id": "c6bc5c89-f5ff-4fb4-9144-db5b1d57e855",
   "metadata": {},
   "outputs": [],
   "source": [
    "df.filter(df[\"Description\"] == \"Unknown\").count()"
   ]
  },
  {
   "cell_type": "code",
   "execution_count": null,
   "id": "454d7824-341b-4449-be01-e8666c53f978",
   "metadata": {},
   "outputs": [],
   "source": [
    "# delete row including null\n",
    "df = df.dropna()\n",
    "\n",
    "df.count()"
   ]
  },
  {
   "cell_type": "code",
   "execution_count": null,
   "id": "5f62974f-fa38-4e47-a988-79099623bc3d",
   "metadata": {},
   "outputs": [],
   "source": []
  }
 ],
 "metadata": {
  "kernelspec": {
   "display_name": "Python 3 (ipykernel)",
   "language": "python",
   "name": "python3"
  },
  "language_info": {
   "codemirror_mode": {
    "name": "ipython",
    "version": 3
   },
   "file_extension": ".py",
   "mimetype": "text/x-python",
   "name": "python",
   "nbconvert_exporter": "python",
   "pygments_lexer": "ipython3",
   "version": "3.10.12"
  }
 },
 "nbformat": 4,
 "nbformat_minor": 5
}
