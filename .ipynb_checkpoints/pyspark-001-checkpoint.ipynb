{
 "cells": [
  {
   "cell_type": "code",
   "execution_count": null,
   "id": "b16d00e1-277b-4332-b6e8-ae65f8ac7bd4",
   "metadata": {},
   "outputs": [],
   "source": [
    "# preparing libralies\n",
    "import pandas as pd\n",
    "from pyspark.sql import SparkSession"
   ]
  },
  {
   "cell_type": "code",
   "execution_count": null,
   "id": "8de6f055-2a4e-4304-b4a6-64693110b72d",
   "metadata": {},
   "outputs": [],
   "source": [
    "# read from excel file to dataframe\n",
    "df = pd.read_excel(\"./datasets/Online Retail.xlsx\")"
   ]
  },
  {
   "cell_type": "code",
   "execution_count": null,
   "id": "78bada73-de27-4046-9be1-88a9e15f7241",
   "metadata": {},
   "outputs": [],
   "source": [
    "# to csv\n",
    "df.to_csv(\"./datasets/Online_Retail.csv\", index=False)"
   ]
  },
  {
   "cell_type": "code",
   "execution_count": null,
   "id": "a06aaaec-984e-49f8-b7de-6e9bf311edbd",
   "metadata": {},
   "outputs": [],
   "source": [
    "# prepare for Spark\n",
    "spark = SparkSession.builder.appName(\"read_data\").getOrCreate()"
   ]
  },
  {
   "cell_type": "code",
   "execution_count": null,
   "id": "80ce6553-0d75-4697-9fce-0979b2462182",
   "metadata": {},
   "outputs": [],
   "source": [
    "# read data using auto setting schema\n",
    "# explain options\n",
    "# inferSchema : define schema auto\n",
    "# header : read first row as header\n",
    "# sep : \",\" sepalate data\n",
    "df = spark.read.format(\"csv\").option(\"inferSchema\", \"True\").option(\"header\", \"True\").option(\"sep\", \",\").load(\"./datasets/Online_Retail.csv\")"
   ]
  },
  {
   "cell_type": "code",
   "execution_count": null,
   "id": "37770ea8-4078-42b3-aee3-1e33035f7a5f",
   "metadata": {},
   "outputs": [],
   "source": [
    "# check dataframe\n",
    "df.show()"
   ]
  },
  {
   "cell_type": "code",
   "execution_count": null,
   "id": "e90d99e8-e242-4ea1-a324-ffc24d0efb32",
   "metadata": {},
   "outputs": [],
   "source": [
    "df.printSchema()"
   ]
  },
  {
   "cell_type": "code",
   "execution_count": null,
   "id": "1228914c-e0d0-43aa-93ce-786f1a5a9bb1",
   "metadata": {},
   "outputs": [],
   "source": [
    "# import libralies for defining schema\n",
    "from pyspark.sql.types import StructType, StructField, StringType, IntegerType, FloatType, DateType\n",
    "# from pyspark.sql.types import StructType, StringType, IntegerType, FloatType, DateType"
   ]
  },
  {
   "cell_type": "code",
   "execution_count": null,
   "id": "13bc6016-dae0-4862-b334-a8a18d40ce8f",
   "metadata": {},
   "outputs": [],
   "source": [
    "# define schema manual\n",
    "schema = StructType([\n",
    "    StructField(\"InvoiceNo\", StringType(), False),\n",
    "    StructField(\"StockCode\", StringType(), False),\n",
    "    StructField(\"Description\", StringType(), False),\n",
    "    StructField(\"Quantity\", IntegerType(), False),\n",
    "    StructField(\"InvoiceDate\", DateType(), False),\n",
    "    StructField(\"UnitPrice\", FloatType(), False),\n",
    "    StructField(\"CustomerID\", StringType(), False),\n",
    "    StructField(\"Country\", StringType(), False)\n",
    "])\n",
    "\n",
    "# read csv\n",
    "df = spark.read.format(\"csv\").option(\"header\", \"True\").option(\"sep\", \",\").load(\"./datasets/Online_Retail.csv\", schema=schema)"
   ]
  },
  {
   "cell_type": "code",
   "execution_count": null,
   "id": "75ee068b-3fd9-4baa-a825-bf4abef1f96b",
   "metadata": {},
   "outputs": [],
   "source": [
    "df.show()"
   ]
  },
  {
   "cell_type": "code",
   "execution_count": null,
   "id": "2fd2ec27-24db-4412-be03-1a31b4004b9e",
   "metadata": {},
   "outputs": [],
   "source": []
  }
 ],
 "metadata": {
  "kernelspec": {
   "display_name": "Python 3 (ipykernel)",
   "language": "python",
   "name": "python3"
  },
  "language_info": {
   "codemirror_mode": {
    "name": "ipython",
    "version": 3
   },
   "file_extension": ".py",
   "mimetype": "text/x-python",
   "name": "python",
   "nbconvert_exporter": "python",
   "pygments_lexer": "ipython3",
   "version": "3.10.12"
  }
 },
 "nbformat": 4,
 "nbformat_minor": 5
}
