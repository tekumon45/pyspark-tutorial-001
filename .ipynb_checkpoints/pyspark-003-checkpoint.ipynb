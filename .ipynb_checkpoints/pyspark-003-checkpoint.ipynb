{
 "cells": [
  {
   "cell_type": "code",
   "execution_count": null,
   "id": "ba5e1ace-6be9-4abf-a649-52a1067b2658",
   "metadata": {},
   "outputs": [],
   "source": [
    "# create dataframe\n",
    "from pyspark.sql import SparkSession\n",
    "\n",
    "spark = SparkSession.builder.appName(\"column_action\").getOrCreate()\n",
    "\n",
    "df = spark.read.format(\"csv\").option(\"inferSchema\", \"True\").option(\"header\", \"True\").option(\"sep\", \",\").load(\"./datasets/Online_Retail.csv\")\n",
    "\n",
    "df.show()"
   ]
  },
  {
   "cell_type": "code",
   "execution_count": null,
   "id": "38ee0124-28e0-4b33-9e81-dcb0aa1bc687",
   "metadata": {},
   "outputs": [],
   "source": [
    "# add a column \"Amount\"\n",
    "df_new = df.withColumn(\"Amount\", df[\"Quantity\"]*df[\"UnitPrice\"])\n",
    "df_new.show()"
   ]
  },
  {
   "cell_type": "code",
   "execution_count": null,
   "id": "abc46bcc-6df1-4ee3-af75-db28aed4d832",
   "metadata": {},
   "outputs": [],
   "source": [
    "# delete columns that are no longer needed\n",
    "df_new = df_new.drop(\"Amount\")\n",
    "df_new.show()"
   ]
  },
  {
   "cell_type": "code",
   "execution_count": null,
   "id": "5c5691ce-a6a6-4f9b-811f-0ab34b31d742",
   "metadata": {},
   "outputs": [],
   "source": [
    "# rename a column\n",
    "df_new = df.withColumnRenamed(\"InvoiceDate\", \"PurchaseDate\")\n",
    "df_new.show()"
   ]
  },
  {
   "cell_type": "code",
   "execution_count": null,
   "id": "11a8b51a-92e4-4464-a154-c91f0ac0d090",
   "metadata": {},
   "outputs": [],
   "source": []
  }
 ],
 "metadata": {
  "kernelspec": {
   "display_name": "Python 3 (ipykernel)",
   "language": "python",
   "name": "python3"
  },
  "language_info": {
   "codemirror_mode": {
    "name": "ipython",
    "version": 3
   },
   "file_extension": ".py",
   "mimetype": "text/x-python",
   "name": "python",
   "nbconvert_exporter": "python",
   "pygments_lexer": "ipython3",
   "version": "3.10.12"
  }
 },
 "nbformat": 4,
 "nbformat_minor": 5
}
