{
 "cells": [
  {
   "cell_type": "code",
   "execution_count": null,
   "id": "be03e04f-557c-4107-a63a-e6247aefca69",
   "metadata": {},
   "outputs": [],
   "source": [
    "# import libraly\n",
    "from pyspark.sql import SparkSession\n",
    "\n",
    "# create sparksession\n",
    "spark = SparkSession.builder.appName(\"duplicate_action\").getOrCreate()\n",
    "\n",
    "# create dataframe\n",
    "df = spark.read.format(\"csv\").option(\"inferSchema\", \"True\").option(\"header\", \"True\").option(\"sep\", \",\").load(\"./datasets/Online_Retail.csv\")\n",
    "\n",
    "df.show()"
   ]
  },
  {
   "cell_type": "code",
   "execution_count": null,
   "id": "c2128c8c-f721-45ce-b83c-950763d61823",
   "metadata": {},
   "outputs": [],
   "source": [
    "# duplicate handling\n",
    "df.dropDuplicates([\"Description\"]).count()"
   ]
  },
  {
   "cell_type": "code",
   "execution_count": null,
   "id": "79a93895-6092-47f8-a9b6-e6ec74643f7e",
   "metadata": {},
   "outputs": [],
   "source": [
    "# duplicate handling 2\n",
    "df.select(\"Description\").distinct().count()"
   ]
  },
  {
   "cell_type": "code",
   "execution_count": null,
   "id": "c46020b8-1217-4445-8c3f-5fd03bd476d0",
   "metadata": {},
   "outputs": [],
   "source": [
    "# import when\n",
    "from pyspark.sql.functions import when\n",
    "\n",
    "df = df.withColumn(\"PriceCategory\", when(df[\"UnitPrice\"] > 15, \"expensive\").when((df[\"UnitPrice\"] <= 15) & (df[\"UnitPrice\"] > 5), \"medium\").when((df[\"UnitPrice\"] <= 5) & (df[\"UnitPrice\"] >= 0), \"cheap\").otherwise(\"unknown\"))\n",
    "\n",
    "df.show()"
   ]
  },
  {
   "cell_type": "code",
   "execution_count": null,
   "id": "aa7f5ee0-90a6-47d4-8c01-7a6826b3b342",
   "metadata": {},
   "outputs": [],
   "source": []
  }
 ],
 "metadata": {
  "kernelspec": {
   "display_name": "Python 3 (ipykernel)",
   "language": "python",
   "name": "python3"
  },
  "language_info": {
   "codemirror_mode": {
    "name": "ipython",
    "version": 3
   },
   "file_extension": ".py",
   "mimetype": "text/x-python",
   "name": "python",
   "nbconvert_exporter": "python",
   "pygments_lexer": "ipython3",
   "version": "3.10.12"
  }
 },
 "nbformat": 4,
 "nbformat_minor": 5
}
