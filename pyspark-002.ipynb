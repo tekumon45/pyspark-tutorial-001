{
 "cells": [
  {
   "cell_type": "code",
   "execution_count": null,
   "id": "4e6c7d4b-dede-40ef-b875-31f0c0fbb202",
   "metadata": {},
   "outputs": [],
   "source": [
    "# import libralies\n",
    "from pyspark.sql import SparkSession"
   ]
  },
  {
   "cell_type": "code",
   "execution_count": null,
   "id": "3e0117f5-4e9a-483e-be23-5e228c9e674e",
   "metadata": {},
   "outputs": [],
   "source": [
    "# create dataframe from csv\n",
    "\n",
    "spark = SparkSession.builder.appName(\"data_select\").getOrCreate()\n",
    "\n",
    "df=spark.read.format(\"csv\").option(\"inferSchema\", \"True\").option(\"header\", \"True\").option(\"sep\", \",\").load(\"./datasets/Online_Retail.csv\")\n",
    "\n",
    "df.show()"
   ]
  },
  {
   "cell_type": "code",
   "execution_count": null,
   "id": "ba51b41b-b307-471d-86a6-4675710e988e",
   "metadata": {},
   "outputs": [],
   "source": [
    "# select columns\n",
    "df.select(\"StockCode\", \"Description\").show()"
   ]
  },
  {
   "cell_type": "code",
   "execution_count": null,
   "id": "e4e8542f-7719-4014-87c7-407ebd9a4f67",
   "metadata": {},
   "outputs": [],
   "source": [
    "# count rows\n",
    "df.count()"
   ]
  },
  {
   "cell_type": "code",
   "execution_count": null,
   "id": "333cbc5b-910e-4e7b-b50b-9b065165b32e",
   "metadata": {},
   "outputs": [],
   "source": [
    "# filtering data : UnitPrice >= 10\n",
    "df.filter(df[\"UnitPrice\"] >= 10).show()\n",
    "print(df.filter(df[\"UnitPrice\"] >= 10).count())"
   ]
  },
  {
   "cell_type": "code",
   "execution_count": null,
   "id": "8a696825-6f7f-4dbb-acee-0ad4a26dfdf5",
   "metadata": {},
   "outputs": [],
   "source": [
    "# using where syntax\n",
    "df.where(df[\"UnitPrice\"] >= 10).count()"
   ]
  },
  {
   "cell_type": "code",
   "execution_count": null,
   "id": "c96f2bf7-9da6-406d-964a-0c5f25b239c5",
   "metadata": {},
   "outputs": [],
   "source": []
  }
 ],
 "metadata": {
  "kernelspec": {
   "display_name": "Python 3 (ipykernel)",
   "language": "python",
   "name": "python3"
  },
  "language_info": {
   "codemirror_mode": {
    "name": "ipython",
    "version": 3
   },
   "file_extension": ".py",
   "mimetype": "text/x-python",
   "name": "python",
   "nbconvert_exporter": "python",
   "pygments_lexer": "ipython3",
   "version": "3.10.12"
  }
 },
 "nbformat": 4,
 "nbformat_minor": 5
}
